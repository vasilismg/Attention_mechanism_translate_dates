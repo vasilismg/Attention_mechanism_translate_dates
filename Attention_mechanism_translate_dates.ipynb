{
 "cells": [
  {
   "cell_type": "markdown",
   "metadata": {},
   "source": [
    "# Translate dates from human to machine format with attention mechanism\n",
    "\n",
    "This notebook is based on the programming assignment \"Neural machine translation\" of deeplearning.ai, course Sequence models, week Sequence models and Attention mechanism. It was implemented in Keras and I reimplemented it using TensorFlow 1.14. The figure with the network architecture is taken from that assignment.\n",
    "\n",
    "We will build a model to translate human readable dates (\"25th of June, 2009\", \"03/30/1968\") into machine readable dates (\"2009-06-25\", \"1968-03-30\") using the attention mechanism.\n",
    "\n",
    "The attention mechanism tells a Neural Machine Translation model where it should pay attention to at any step. \n",
    "\n",
    "## Learning objectives\n",
    "\n",
    "- Use of unidirectional and bidirectional LSTM neural network architecture in TensorFlow\n",
    "- Apply the attention mechanism\n",
    "- Applying the concept of \"reuse\" for variables in TensorFlow\n",
    "- Use Adam optimizer with decay rate"
   ]
  },
  {
   "cell_type": "code",
   "execution_count": 1,
   "metadata": {},
   "outputs": [
    {
     "name": "stderr",
     "output_type": "stream",
     "text": [
      "Using TensorFlow backend.\n",
      "/home/vgkortsas/.conda/envs/TensorFlow_practice/lib/python3.5/site-packages/tensorflow/python/framework/dtypes.py:516: FutureWarning: Passing (type, 1) or '1type' as a synonym of type is deprecated; in a future version of numpy, it will be understood as (type, (1,)) / '(1,)type'.\n",
      "  _np_qint8 = np.dtype([(\"qint8\", np.int8, 1)])\n",
      "/home/vgkortsas/.conda/envs/TensorFlow_practice/lib/python3.5/site-packages/tensorflow/python/framework/dtypes.py:517: FutureWarning: Passing (type, 1) or '1type' as a synonym of type is deprecated; in a future version of numpy, it will be understood as (type, (1,)) / '(1,)type'.\n",
      "  _np_quint8 = np.dtype([(\"quint8\", np.uint8, 1)])\n",
      "/home/vgkortsas/.conda/envs/TensorFlow_practice/lib/python3.5/site-packages/tensorflow/python/framework/dtypes.py:518: FutureWarning: Passing (type, 1) or '1type' as a synonym of type is deprecated; in a future version of numpy, it will be understood as (type, (1,)) / '(1,)type'.\n",
      "  _np_qint16 = np.dtype([(\"qint16\", np.int16, 1)])\n",
      "/home/vgkortsas/.conda/envs/TensorFlow_practice/lib/python3.5/site-packages/tensorflow/python/framework/dtypes.py:519: FutureWarning: Passing (type, 1) or '1type' as a synonym of type is deprecated; in a future version of numpy, it will be understood as (type, (1,)) / '(1,)type'.\n",
      "  _np_quint16 = np.dtype([(\"quint16\", np.uint16, 1)])\n",
      "/home/vgkortsas/.conda/envs/TensorFlow_practice/lib/python3.5/site-packages/tensorflow/python/framework/dtypes.py:520: FutureWarning: Passing (type, 1) or '1type' as a synonym of type is deprecated; in a future version of numpy, it will be understood as (type, (1,)) / '(1,)type'.\n",
      "  _np_qint32 = np.dtype([(\"qint32\", np.int32, 1)])\n",
      "/home/vgkortsas/.conda/envs/TensorFlow_practice/lib/python3.5/site-packages/tensorflow/python/framework/dtypes.py:525: FutureWarning: Passing (type, 1) or '1type' as a synonym of type is deprecated; in a future version of numpy, it will be understood as (type, (1,)) / '(1,)type'.\n",
      "  np_resource = np.dtype([(\"resource\", np.ubyte, 1)])\n",
      "/home/vgkortsas/.conda/envs/TensorFlow_practice/lib/python3.5/site-packages/tensorboard/compat/tensorflow_stub/dtypes.py:541: FutureWarning: Passing (type, 1) or '1type' as a synonym of type is deprecated; in a future version of numpy, it will be understood as (type, (1,)) / '(1,)type'.\n",
      "  _np_qint8 = np.dtype([(\"qint8\", np.int8, 1)])\n",
      "/home/vgkortsas/.conda/envs/TensorFlow_practice/lib/python3.5/site-packages/tensorboard/compat/tensorflow_stub/dtypes.py:542: FutureWarning: Passing (type, 1) or '1type' as a synonym of type is deprecated; in a future version of numpy, it will be understood as (type, (1,)) / '(1,)type'.\n",
      "  _np_quint8 = np.dtype([(\"quint8\", np.uint8, 1)])\n",
      "/home/vgkortsas/.conda/envs/TensorFlow_practice/lib/python3.5/site-packages/tensorboard/compat/tensorflow_stub/dtypes.py:543: FutureWarning: Passing (type, 1) or '1type' as a synonym of type is deprecated; in a future version of numpy, it will be understood as (type, (1,)) / '(1,)type'.\n",
      "  _np_qint16 = np.dtype([(\"qint16\", np.int16, 1)])\n",
      "/home/vgkortsas/.conda/envs/TensorFlow_practice/lib/python3.5/site-packages/tensorboard/compat/tensorflow_stub/dtypes.py:544: FutureWarning: Passing (type, 1) or '1type' as a synonym of type is deprecated; in a future version of numpy, it will be understood as (type, (1,)) / '(1,)type'.\n",
      "  _np_quint16 = np.dtype([(\"quint16\", np.uint16, 1)])\n",
      "/home/vgkortsas/.conda/envs/TensorFlow_practice/lib/python3.5/site-packages/tensorboard/compat/tensorflow_stub/dtypes.py:545: FutureWarning: Passing (type, 1) or '1type' as a synonym of type is deprecated; in a future version of numpy, it will be understood as (type, (1,)) / '(1,)type'.\n",
      "  _np_qint32 = np.dtype([(\"qint32\", np.int32, 1)])\n",
      "/home/vgkortsas/.conda/envs/TensorFlow_practice/lib/python3.5/site-packages/tensorboard/compat/tensorflow_stub/dtypes.py:550: FutureWarning: Passing (type, 1) or '1type' as a synonym of type is deprecated; in a future version of numpy, it will be understood as (type, (1,)) / '(1,)type'.\n",
      "  np_resource = np.dtype([(\"resource\", np.ubyte, 1)])\n"
     ]
    },
    {
     "name": "stdout",
     "output_type": "stream",
     "text": [
      "1.14.0\n"
     ]
    }
   ],
   "source": [
    "import numpy as np\n",
    "\n",
    "from faker import Faker\n",
    "import random\n",
    "from tqdm import tqdm\n",
    "from babel.dates import format_date\n",
    "from nmt_utils import *\n",
    "import matplotlib.pyplot as plt\n",
    "%matplotlib inline\n",
    "import pickle\n",
    "import time\n",
    "\n",
    "import matplotlib.pyplot as plt\n",
    "import os\n",
    "os.environ[\"CUDA_VISIBLE_DEVICES\"]=\"1\"\n",
    "\n",
    "import tensorflow as tf\n",
    "print(tf.__version__)\n",
    "\n",
    "config = tf.ConfigProto()\n",
    "config.gpu_options.allow_growth=True"
   ]
  },
  {
   "cell_type": "code",
   "execution_count": 2,
   "metadata": {},
   "outputs": [
    {
     "name": "stdout",
     "output_type": "stream",
     "text": [
      "Default GPU Device: /device:GPU:0\n"
     ]
    }
   ],
   "source": [
    "import warnings\n",
    "\n",
    "# Check for a GPU\n",
    "if not tf.test.gpu_device_name():\n",
    "    warnings.warn('No GPU found. Please use a GPU to train your neural network.')\n",
    "else:\n",
    "    print('Default GPU Device: {}'.format(tf.test.gpu_device_name()))"
   ]
  },
  {
   "cell_type": "code",
   "execution_count": 3,
   "metadata": {},
   "outputs": [
    {
     "name": "stderr",
     "output_type": "stream",
     "text": [
      "100%|██████████| 10000/10000 [00:00<00:00, 22073.52it/s]\n"
     ]
    }
   ],
   "source": [
    "m = 10000\n",
    "dataset, human_vocab, machine_vocab, inv_machine_vocab = load_dataset(m)"
   ]
  },
  {
   "cell_type": "code",
   "execution_count": 4,
   "metadata": {},
   "outputs": [
    {
     "data": {
      "text/plain": [
       "[('25 april 1982', '1982-04-25'),\n",
       " ('thursday september 20 1984', '1984-09-20'),\n",
       " ('sunday march 11 1973', '1973-03-11'),\n",
       " ('saturday april 29 1978', '1978-04-29'),\n",
       " ('saturday january 30 1982', '1982-01-30'),\n",
       " ('20.01.19', '2019-01-20'),\n",
       " ('monday july 7 1975', '1975-07-07'),\n",
       " ('october 9 1983', '1983-10-09'),\n",
       " ('tuesday july 2 1974', '1974-07-02'),\n",
       " ('21 aug 2000', '2000-08-21')]"
      ]
     },
     "execution_count": 4,
     "metadata": {},
     "output_type": "execute_result"
    }
   ],
   "source": [
    "dataset[9990:] # list of tuples of (human readable date, machine readable date)"
   ]
  },
  {
   "cell_type": "code",
   "execution_count": 5,
   "metadata": {},
   "outputs": [
    {
     "data": {
      "text/plain": [
       "{' ': 0,\n",
       " '.': 1,\n",
       " '/': 2,\n",
       " '0': 3,\n",
       " '1': 4,\n",
       " '2': 5,\n",
       " '3': 6,\n",
       " '4': 7,\n",
       " '5': 8,\n",
       " '6': 9,\n",
       " '7': 10,\n",
       " '8': 11,\n",
       " '9': 12,\n",
       " '<pad>': 36,\n",
       " '<unk>': 35,\n",
       " 'a': 13,\n",
       " 'b': 14,\n",
       " 'c': 15,\n",
       " 'd': 16,\n",
       " 'e': 17,\n",
       " 'f': 18,\n",
       " 'g': 19,\n",
       " 'h': 20,\n",
       " 'i': 21,\n",
       " 'j': 22,\n",
       " 'l': 23,\n",
       " 'm': 24,\n",
       " 'n': 25,\n",
       " 'o': 26,\n",
       " 'p': 27,\n",
       " 'r': 28,\n",
       " 's': 29,\n",
       " 't': 30,\n",
       " 'u': 31,\n",
       " 'v': 32,\n",
       " 'w': 33,\n",
       " 'y': 34}"
      ]
     },
     "execution_count": 5,
     "metadata": {},
     "output_type": "execute_result"
    }
   ],
   "source": [
    "human_vocab # python dictionary mapping all characters used in the human readable dates to an integer-valued index"
   ]
  },
  {
   "cell_type": "code",
   "execution_count": 6,
   "metadata": {},
   "outputs": [
    {
     "data": {
      "text/plain": [
       "{'-': 0,\n",
       " '0': 1,\n",
       " '1': 2,\n",
       " '2': 3,\n",
       " '3': 4,\n",
       " '4': 5,\n",
       " '5': 6,\n",
       " '6': 7,\n",
       " '7': 8,\n",
       " '8': 9,\n",
       " '9': 10}"
      ]
     },
     "execution_count": 6,
     "metadata": {},
     "output_type": "execute_result"
    }
   ],
   "source": [
    "machine_vocab # python dictionary mapping all characters used in machine readable dates to an integer-valued index. \n",
    "# These indices are not necessarily consistent with human_vocab."
   ]
  },
  {
   "cell_type": "code",
   "execution_count": 7,
   "metadata": {},
   "outputs": [
    {
     "data": {
      "text/plain": [
       "{0: '-',\n",
       " 1: '0',\n",
       " 2: '1',\n",
       " 3: '2',\n",
       " 4: '3',\n",
       " 5: '4',\n",
       " 6: '5',\n",
       " 7: '6',\n",
       " 8: '7',\n",
       " 9: '8',\n",
       " 10: '9'}"
      ]
     },
     "execution_count": 7,
     "metadata": {},
     "output_type": "execute_result"
    }
   ],
   "source": [
    "inv_machine_vocab # inverse dictionary of machine_vocab, mapping from indices back to characters"
   ]
  },
  {
   "cell_type": "markdown",
   "metadata": {},
   "source": [
    "We preprocess the data and map the raw text data into the index values. We will also use Tx=30 (which we assume is the maximum length of the human readable date; if we get a shorter date, it is further padded to $T_x$ values with a special character < pad >; if we get a longer input, we would have to truncate it) and Ty=10 (since \"YYYY-MM-DD\" is 10 characters long). "
   ]
  },
  {
   "cell_type": "code",
   "execution_count": 8,
   "metadata": {
    "collapsed": true
   },
   "outputs": [],
   "source": [
    "def preprocess_data(dataset, human_vocab, machine_vocab, Tx, Ty):\n",
    "    \n",
    "    X, Y = zip(*dataset)\n",
    "    \n",
    "    X = np.array([string_to_int(i, Tx, human_vocab) for i in X])\n",
    "    Y = [string_to_int(t, Ty, machine_vocab) for t in Y]\n",
    "\n",
    "    return X, np.array(Y)"
   ]
  },
  {
   "cell_type": "code",
   "execution_count": 9,
   "metadata": {},
   "outputs": [
    {
     "name": "stdout",
     "output_type": "stream",
     "text": [
      "X_train.shape: (10000, 30)\n",
      "Y_train.shape: (10000, 10)\n"
     ]
    }
   ],
   "source": [
    "Tx = 30\n",
    "Ty = 10\n",
    "X_train_original, Y_train_original = preprocess_data(dataset, human_vocab, machine_vocab, Tx, Ty)\n",
    "\n",
    "print(\"X_train.shape:\", X_train_original.shape)\n",
    "print(\"Y_train.shape:\", Y_train_original.shape)"
   ]
  },
  {
   "cell_type": "code",
   "execution_count": 10,
   "metadata": {},
   "outputs": [
    {
     "name": "stdout",
     "output_type": "stream",
     "text": [
      "Source date: 9 may 1998\n",
      "Target date: 1998-05-09\n",
      "\n",
      "Source after preprocessing (indices): [12  0 24 13 34  0  4 12 12 11 36 36 36 36 36 36 36 36 36 36 36 36 36 36\n",
      " 36 36 36 36 36 36]\n",
      "Target after preprocessing (indices): [ 2 10 10  9  0  1  6  0  1 10]\n",
      "\n"
     ]
    }
   ],
   "source": [
    "index = 0\n",
    "print(\"Source date:\", dataset[index][0])\n",
    "print(\"Target date:\", dataset[index][1])\n",
    "print()\n",
    "print(\"Source after preprocessing (indices):\", X_train_original[index])\n",
    "print(\"Target after preprocessing (indices):\", Y_train_original[index])\n",
    "print()"
   ]
  },
  {
   "cell_type": "markdown",
   "metadata": {},
   "source": [
    "## Network architecture and Attention mechanism\n",
    "\n",
    "The diagram on the left shows the attention model. The diagram on the right shows what one \"Attention\" step does to calculate the attention variables $\\alpha^{\\langle t, t' \\rangle}$, which are used to compute the context variable $context^{\\langle t \\rangle}$ for each timestep in the output ($t=1, \\ldots, T_y$). Both diagrams are taken from the programming assignment \"Neural machine translation\" of deeplearning.ai\n",
    "\n",
    "\n",
    "<img src=\"images/attention.png\" style=\"width:500;height:500px;\"> <br>"
   ]
  },
  {
   "cell_type": "code",
   "execution_count": 11,
   "metadata": {
    "collapsed": true
   },
   "outputs": [],
   "source": [
    "def get_batches(x, y, batch_size):\n",
    "    \n",
    "    n_batches = len(x)//batch_size\n",
    "    x, y = x[:n_batches*batch_size], y[:n_batches*batch_size]\n",
    "    for ii in range(0, len(x), batch_size):\n",
    "        yield x[ii:ii+batch_size], y[ii:ii+batch_size]"
   ]
  },
  {
   "cell_type": "code",
   "execution_count": 12,
   "metadata": {
    "collapsed": true
   },
   "outputs": [],
   "source": [
    "def length(sequence):   \n",
    "    \n",
    "  used = tf.sign(tf.reduce_max(tf.abs(sequence), 2))\n",
    "  length = tf.reduce_sum(used, 1)\n",
    "  length = tf.cast(length, tf.int32)\n",
    "  return length"
   ]
  },
  {
   "cell_type": "code",
   "execution_count": 13,
   "metadata": {
    "collapsed": true
   },
   "outputs": [],
   "source": [
    "def build_inputs():\n",
    "    \n",
    "    inputs_ = tf.placeholder(tf.int32,[None,None],name='inputs_')\n",
    "    labels_ = tf.placeholder(tf.int32,[None,None],name='labels_')\n",
    "    \n",
    "    return inputs_, labels_"
   ]
  },
  {
   "cell_type": "code",
   "execution_count": 14,
   "metadata": {
    "collapsed": true
   },
   "outputs": [],
   "source": [
    "def build_post_attention_lstm(lstm_size, lstm_layers, batch_size):\n",
    "    \n",
    "    # Basic LSTM cell\n",
    "    lstm = tf.contrib.rnn.BasicLSTMCell(lstm_size) \n",
    "        \n",
    "    # Stack up multiple LSTM layers, for deep learning\n",
    "    cell = tf.contrib.rnn.MultiRNNCell([lstm for _ in range(lstm_layers)])\n",
    "    \n",
    "    # Getting an initial state of all zeros\n",
    "    initial_state = cell.zero_state(batch_size, tf.float32)\n",
    "\n",
    "    return cell, initial_state"
   ]
  },
  {
   "cell_type": "code",
   "execution_count": 15,
   "metadata": {
    "collapsed": true
   },
   "outputs": [],
   "source": [
    "def build_bidirectional_lstm(lstm_size, lstm_layers, batch_size):\n",
    "    \n",
    "    # Basic LSTM cell\n",
    "    lstm_fw = tf.contrib.rnn.BasicLSTMCell(lstm_size) \n",
    "    lstm_bw = tf.contrib.rnn.BasicLSTMCell(lstm_size) \n",
    "    \n",
    "    # Stack up multiple LSTM layers, for deep learning\n",
    "    cell_fw = tf.contrib.rnn.MultiRNNCell([lstm_fw for _ in range(lstm_layers)])\n",
    "    cell_bw = tf.contrib.rnn.MultiRNNCell([lstm_bw for _ in range(lstm_layers)])\n",
    "        \n",
    "    return cell_fw, cell_bw"
   ]
  },
  {
   "cell_type": "code",
   "execution_count": 16,
   "metadata": {
    "collapsed": true
   },
   "outputs": [],
   "source": [
    "def one_step_attention(bidirectional_outputs_concat, s_prev, Tx, reuse, scope1,scope2):\n",
    "    \n",
    "    s_prev_repeator=tf.tile(tf.expand_dims(s_prev,1), [1, Tx, 1])\n",
    "    bidirectional_outputs_sprev_concat=tf.concat([bidirectional_outputs_concat,s_prev_repeator],axis=2)\n",
    "        \n",
    "    densor1=tf.contrib.layers.fully_connected(bidirectional_outputs_sprev_concat, 10, activation_fn=tf.nn.tanh,\n",
    "                                             reuse=reuse, scope=scope1, \n",
    "                                              weights_initializer = tf.keras.initializers.glorot_uniform())\n",
    "    \n",
    "    densor2=tf.contrib.layers.fully_connected(densor1, 1, activation_fn=tf.nn.relu,reuse=reuse, scope=scope2,\n",
    "                                             weights_initializer = tf.keras.initializers.glorot_uniform())\n",
    "    \n",
    "    alphas=tf.nn.softmax(densor2,axis=1)\n",
    "    context=tf.reduce_sum( tf.multiply(alphas, bidirectional_outputs_concat),axis=1, keep_dims=True )\n",
    "    \n",
    "    return context"
   ]
  },
  {
   "cell_type": "code",
   "execution_count": 17,
   "metadata": {
    "collapsed": true
   },
   "outputs": [],
   "source": [
    "def build_loss(predictions, targets, num_classes, Ty):\n",
    "        \n",
    "    # num_classes is len(machine_vocab)    \n",
    "    y_one_hot = tf.one_hot(targets, depth=num_classes)\n",
    "    y_one_hot_swap=tf.transpose(y_one_hot, [1, 0, 2])\n",
    "   \n",
    "    total_loss = None\n",
    "    for kkk in range(Ty):\n",
    "        output_loss = tf.keras.losses.categorical_crossentropy(y_true=y_one_hot_swap[kkk], y_pred=predictions[kkk], from_logits=False)\n",
    "        \n",
    "        if total_loss is None:\n",
    "            total_loss = output_loss\n",
    "        else:\n",
    "            total_loss += output_loss\n",
    "        \n",
    "    loss = tf.reduce_mean(total_loss)\n",
    "    \n",
    "    return loss "
   ]
  },
  {
   "cell_type": "code",
   "execution_count": 18,
   "metadata": {
    "collapsed": true
   },
   "outputs": [],
   "source": [
    "def build_accuracy(predictions, targets, num_classes):\n",
    "        \n",
    "    # num_classes is len(machine_vocab)    \n",
    "    y_one_hot = tf.one_hot(targets, depth=num_classes)\n",
    "    y_one_hot_swap=tf.transpose(y_one_hot, [1, 0, 2])\n",
    "        \n",
    "    accuracy = tf.reduce_mean(tf.cast(tf.reduce_all(tf.reduce_all(tf.equal(y_one_hot_swap,tf.round(predictions)),0),1),tf.float32))\n",
    "        \n",
    "    return accuracy "
   ]
  },
  {
   "cell_type": "code",
   "execution_count": 19,
   "metadata": {
    "collapsed": true
   },
   "outputs": [],
   "source": [
    "def build_optimizer(loss, learning_rate, decay_rate):\n",
    "    \n",
    "    global_step = tf.Variable(1, trainable=False) \n",
    "    \n",
    "    learning_rate = learning_rate / (1. + decay_rate * tf.cast(global_step,tf.float32))\n",
    "    optimizer = tf.train.AdamOptimizer(learning_rate).minimize(loss, global_step)\n",
    "     \n",
    "    return optimizer, learning_rate"
   ]
  },
  {
   "cell_type": "code",
   "execution_count": 20,
   "metadata": {
    "collapsed": true
   },
   "outputs": [],
   "source": [
    "class machine_translation_model:\n",
    "    \n",
    "    def __init__(self, human_vocab_size, batch_size, \n",
    "                       bi_lstm_size, bi_lstm_layers, post_attention_lstm_size, post_attention_lstm_layers,\n",
    "                         learning_rate, Tx, Ty, test_mode=False):\n",
    "        \n",
    "        if (test_mode==True):\n",
    "            batch_size=1\n",
    "            reuse=tf.AUTO_REUSE\n",
    "        else:\n",
    "            reuse=False\n",
    "            \n",
    "        tf.reset_default_graph()\n",
    "        \n",
    "        # Build the input placeholder tensors\n",
    "        self.inputs_, self.labels_ = build_inputs()\n",
    "\n",
    "        # one-hot encode the input tokens\n",
    "        x_one_hot = tf.one_hot(self.inputs_, human_vocab_size)\n",
    "        \n",
    "        logits_list=[]\n",
    "        predictions_list=[]\n",
    "        \n",
    "        # Build the Bidirectional LSTM cell\n",
    "        cell_fw, cell_bw = build_bidirectional_lstm(bi_lstm_size, bi_lstm_layers, batch_size)\n",
    "                \n",
    "        bidirectional_outputs, bidirectional_output_states = tf.nn.bidirectional_dynamic_rnn(cell_fw, cell_bw, \n",
    "                                                        x_one_hot, sequence_length=length(x_one_hot), dtype=tf.float32)\n",
    "            \n",
    "        self.bidirectional_outputs=bidirectional_outputs\n",
    "        self.bidirectional_outputs_concat=tf.concat([self.bidirectional_outputs[0],\n",
    "                                                     self.bidirectional_outputs[1]],axis=2)\n",
    "         \n",
    "        # s_prev for 1st step, equal to all 0s\n",
    "        post_attention_cell, self.post_attention_initial_state = build_post_attention_lstm(post_attention_lstm_size,\n",
    "                                                                            post_attention_lstm_layers, batch_size)\n",
    "        \n",
    "        self.s_prev=self.post_attention_initial_state[0][1]\n",
    "        self.post_attention_state=self.post_attention_initial_state\n",
    "        \n",
    "        scope1='densor1'\n",
    "        scope2='densor2'\n",
    "        \n",
    "        # Iterate for Ty steps\n",
    "        for t in range(Ty):\n",
    "            \n",
    "            if (t>=1):\n",
    "                reuse = True\n",
    "            \n",
    "            # Perform one step of the attention mechanism to get back the context vector at step t \n",
    "            self.context = one_step_attention(self.bidirectional_outputs_concat, self.s_prev, Tx, reuse, scope1, scope2)\n",
    "        \n",
    "            # Apply the post-attention LSTM cell to the \"context\" vector.\n",
    "            self.post_attention_lstm_output, state = tf.nn.dynamic_rnn(post_attention_cell, \n",
    "                                                        self.context, initial_state=self.post_attention_state)\n",
    "            \n",
    "            self.post_attention_state = state\n",
    "            self.s_prev = self.post_attention_state[0][1]\n",
    "        \n",
    "            # Apply fully connected layer to the hidden state output of the post-attention LSTM\n",
    "            self.logits = tf.contrib.layers.fully_connected(self.post_attention_lstm_output[:,0,:], \n",
    "                            len(machine_vocab), activation_fn=None,reuse=reuse, \n",
    "                            scope='softmax', weights_initializer = tf.keras.initializers.glorot_uniform())\n",
    "\n",
    "            self.predictions = tf.nn.softmax(self.logits,axis=1)\n",
    "            \n",
    "            logits_list.append(self.logits)\n",
    "            predictions_list.append(self.predictions)\n",
    "        \n",
    "\n",
    "        self.logits_list = tf.stack(logits_list)\n",
    "        self.predictions_list = tf.stack(predictions_list)\n",
    "        \n",
    "        self.loss = build_loss(self.predictions_list, self.labels_ , len(machine_vocab), Ty)\n",
    "       \n",
    "        self.accuracy = build_accuracy(self.predictions_list, self.labels_ , len(machine_vocab))\n",
    "        self.optimizer, self.learning_rate = build_optimizer(self.loss, learning_rate, decay_rate)"
   ]
  },
  {
   "cell_type": "code",
   "execution_count": 21,
   "metadata": {
    "collapsed": true
   },
   "outputs": [],
   "source": [
    "post_attention_lstm_size = 64\n",
    "post_attention_lstm_layers = 1\n",
    "bi_lstm_size = 32\n",
    "bi_lstm_layers = 1\n",
    "batch_size = 100\n",
    "human_vocab_size = len(human_vocab)\n",
    "learning_rate = 0.005\n",
    "decay_rate = 0.01"
   ]
  },
  {
   "cell_type": "markdown",
   "metadata": {},
   "source": [
    "## Number of trainable parameters"
   ]
  },
  {
   "cell_type": "code",
   "execution_count": 22,
   "metadata": {},
   "outputs": [
    {
     "name": "stderr",
     "output_type": "stream",
     "text": [
      "WARNING: Logging before flag parsing goes to stderr.\n",
      "W0221 01:34:29.302094 140173553436480 lazy_loader.py:50] \n",
      "The TensorFlow contrib module will not be included in TensorFlow 2.0.\n",
      "For more information, please see:\n",
      "  * https://github.com/tensorflow/community/blob/master/rfcs/20180907-contrib-sunset.md\n",
      "  * https://github.com/tensorflow/addons\n",
      "  * https://github.com/tensorflow/io (for I/O related ops)\n",
      "If you depend on functionality not listed there, please file an issue.\n",
      "\n",
      "W0221 01:34:29.302865 140173553436480 deprecation.py:323] From <ipython-input-15-3fc5a43386fa>:4: BasicLSTMCell.__init__ (from tensorflow.python.ops.rnn_cell_impl) is deprecated and will be removed in a future version.\n",
      "Instructions for updating:\n",
      "This class is equivalent as tf.keras.layers.LSTMCell, and will be replaced by that in Tensorflow 2.0.\n",
      "W0221 01:34:29.303718 140173553436480 deprecation.py:323] From <ipython-input-15-3fc5a43386fa>:8: MultiRNNCell.__init__ (from tensorflow.python.ops.rnn_cell_impl) is deprecated and will be removed in a future version.\n",
      "Instructions for updating:\n",
      "This class is equivalent as tf.keras.layers.StackedRNNCells, and will be replaced by that in Tensorflow 2.0.\n",
      "W0221 01:34:29.309525 140173553436480 deprecation.py:323] From <ipython-input-20-ef842a8ae907>:28: bidirectional_dynamic_rnn (from tensorflow.python.ops.rnn) is deprecated and will be removed in a future version.\n",
      "Instructions for updating:\n",
      "Please use `keras.layers.Bidirectional(keras.layers.RNN(cell))`, which is equivalent to this API\n",
      "W0221 01:34:29.310400 140173553436480 deprecation.py:323] From /home/vgkortsas/.conda/envs/TensorFlow_practice/lib/python3.5/site-packages/tensorflow/python/ops/rnn.py:464: dynamic_rnn (from tensorflow.python.ops.rnn) is deprecated and will be removed in a future version.\n",
      "Instructions for updating:\n",
      "Please use `keras.layers.RNN(cell)`, which is equivalent to this API\n",
      "W0221 01:34:29.561030 140173553436480 deprecation.py:506] From /home/vgkortsas/.conda/envs/TensorFlow_practice/lib/python3.5/site-packages/tensorflow/python/ops/init_ops.py:1251: calling VarianceScaling.__init__ (from tensorflow.python.ops.init_ops) with dtype is deprecated and will be removed in a future version.\n",
      "Instructions for updating:\n",
      "Call initializer instance with the dtype argument instead of passing it to the constructor\n",
      "W0221 01:34:29.568968 140173553436480 deprecation.py:506] From /home/vgkortsas/.conda/envs/TensorFlow_practice/lib/python3.5/site-packages/tensorflow/python/ops/rnn_cell_impl.py:738: calling Zeros.__init__ (from tensorflow.python.ops.init_ops) with dtype is deprecated and will be removed in a future version.\n",
      "Instructions for updating:\n",
      "Call initializer instance with the dtype argument instead of passing it to the constructor\n",
      "W0221 01:34:29.842390 140173553436480 deprecation.py:323] From /home/vgkortsas/.conda/envs/TensorFlow_practice/lib/python3.5/site-packages/tensorflow/python/ops/rnn.py:244: add_dispatch_support.<locals>.wrapper (from tensorflow.python.ops.array_ops) is deprecated and will be removed in a future version.\n",
      "Instructions for updating:\n",
      "Use tf.where in 2.0, which has the same broadcast rule as np.where\n",
      "W0221 01:34:30.310182 140173553436480 deprecation.py:506] From <ipython-input-16-2e0abb696da5>:14: calling reduce_sum_v1 (from tensorflow.python.ops.math_ops) with keep_dims is deprecated and will be removed in a future version.\n",
      "Instructions for updating:\n",
      "keep_dims is deprecated, use keepdims instead\n"
     ]
    },
    {
     "name": "stdout",
     "output_type": "stream",
     "text": [
      "<tf.Variable 'bidirectional_rnn/fw/multi_rnn_cell/cell_0/basic_lstm_cell/kernel:0' shape=(69, 128) dtype=float32_ref>\n",
      "shape of weight matrix:  (69, 128)\n",
      "number of trainable parameters:  8832\n",
      "------------------------------\n",
      "<tf.Variable 'bidirectional_rnn/fw/multi_rnn_cell/cell_0/basic_lstm_cell/bias:0' shape=(128,) dtype=float32_ref>\n",
      "shape of weight matrix:  (128,)\n",
      "number of trainable parameters:  128\n",
      "------------------------------\n",
      "<tf.Variable 'bidirectional_rnn/bw/multi_rnn_cell/cell_0/basic_lstm_cell/kernel:0' shape=(69, 128) dtype=float32_ref>\n",
      "shape of weight matrix:  (69, 128)\n",
      "number of trainable parameters:  8832\n",
      "------------------------------\n",
      "<tf.Variable 'bidirectional_rnn/bw/multi_rnn_cell/cell_0/basic_lstm_cell/bias:0' shape=(128,) dtype=float32_ref>\n",
      "shape of weight matrix:  (128,)\n",
      "number of trainable parameters:  128\n",
      "------------------------------\n",
      "<tf.Variable 'densor1/weights:0' shape=(128, 10) dtype=float32_ref>\n",
      "shape of weight matrix:  (128, 10)\n",
      "number of trainable parameters:  1280\n",
      "------------------------------\n",
      "<tf.Variable 'densor1/biases:0' shape=(10,) dtype=float32_ref>\n",
      "shape of weight matrix:  (10,)\n",
      "number of trainable parameters:  10\n",
      "------------------------------\n",
      "<tf.Variable 'densor2/weights:0' shape=(10, 1) dtype=float32_ref>\n",
      "shape of weight matrix:  (10, 1)\n",
      "number of trainable parameters:  10\n",
      "------------------------------\n",
      "<tf.Variable 'densor2/biases:0' shape=(1,) dtype=float32_ref>\n",
      "shape of weight matrix:  (1,)\n",
      "number of trainable parameters:  1\n",
      "------------------------------\n",
      "<tf.Variable 'rnn/multi_rnn_cell/cell_0/basic_lstm_cell/kernel:0' shape=(128, 256) dtype=float32_ref>\n",
      "shape of weight matrix:  (128, 256)\n",
      "number of trainable parameters:  32768\n",
      "------------------------------\n",
      "<tf.Variable 'rnn/multi_rnn_cell/cell_0/basic_lstm_cell/bias:0' shape=(256,) dtype=float32_ref>\n",
      "shape of weight matrix:  (256,)\n",
      "number of trainable parameters:  256\n",
      "------------------------------\n",
      "<tf.Variable 'softmax/weights:0' shape=(64, 11) dtype=float32_ref>\n",
      "shape of weight matrix:  (64, 11)\n",
      "number of trainable parameters:  704\n",
      "------------------------------\n",
      "<tf.Variable 'softmax/biases:0' shape=(11,) dtype=float32_ref>\n",
      "shape of weight matrix:  (11,)\n",
      "number of trainable parameters:  11\n",
      "------------------------------\n",
      "total number of trainable parameters:  52960\n"
     ]
    }
   ],
   "source": [
    "model = machine_translation_model(human_vocab_size=human_vocab_size, batch_size=batch_size, \n",
    "                       bi_lstm_size=bi_lstm_size, bi_lstm_layers=bi_lstm_layers, post_attention_lstm_size=post_attention_lstm_size,\n",
    "                        post_attention_lstm_layers=post_attention_lstm_layers, learning_rate=learning_rate, Tx=Tx, Ty=Ty)\n",
    "\n",
    "with tf.Session(config=config) as sess:\n",
    "    sess.run(tf.global_variables_initializer())\n",
    "\n",
    "    total_parameters = 0\n",
    "    for variable in tf.trainable_variables():\n",
    "        print(variable)\n",
    "        # shape is an array of tf.Dimension\n",
    "        shape = variable.get_shape()\n",
    "        print('shape of weight matrix: ',shape)\n",
    "        #print(len(shape))\n",
    "        variable_parameters = 1\n",
    "        for dim in shape:\n",
    "            #print(dim)\n",
    "            variable_parameters *= dim.value\n",
    "        print('number of trainable parameters: ',variable_parameters)\n",
    "        print('------------------------------')\n",
    "        total_parameters += variable_parameters\n",
    "    print('total number of trainable parameters: ',total_parameters)"
   ]
  },
  {
   "cell_type": "markdown",
   "metadata": {},
   "source": [
    "## explanation of weight matrices shapes\n",
    "\n",
    "* The training variables are:\n",
    "    * Variable:  bidirectional_rnn/fw/multi_rnn_cell/cell_0/basic_lstm_cell/kernel:0, Shape:  (68, 128)\n",
    "       \n",
    "      68 because the input to each LSTM gate is the concatenation of inputs of size (100,36) and the 32 LSTM nodes, thus (100,68)\n",
    "      \n",
    "      128 because LSTM has 4 gates with 32 nodes and thus 4*32=128\n",
    "     \n",
    "    * Variable:  rnn/multi_rnn_cell/cell_0/basic_lstm_cell/kernel:0, Shape: (128, 256)\n",
    "      \n",
    "      This refers to the post-attention LSTM, which has inputs conext and s_prev\n",
    "      context has shape (100,1,64), since bidirectional_outputs_concat has shape (100,30,64)\n",
    "      \n",
    "      128 because 64 from context and 64 from LSTM nodes\n",
    "      \n",
    "      256 because LSTM has 4 gates with 64 nodes and thus 4*64=256\n",
    "      \n",
    "    * Variable:  softmax/softmax_w:0, Shape: (64, 11)\n",
    "    \n",
    "      64 because the input to softmax is the output of post-attention LSTM which has 64 nodes\n",
    "      \n",
    "      11 are the classes"
   ]
  },
  {
   "cell_type": "markdown",
   "metadata": {},
   "source": [
    "## Training"
   ]
  },
  {
   "cell_type": "code",
   "execution_count": 23,
   "metadata": {},
   "outputs": [
    {
     "name": "stdout",
     "output_type": "stream",
     "text": [
      "Epoch: 1/5000 Train loss (mean) : 16.5775203705 Accuracy (mean): 0.000000 learning rate : 0.00250000\n",
      "Epoch: 11/5000 Train loss (mean) : 1.4584093094 Accuracy (mean): 0.648200 learning rate : 0.00041667\n",
      "Epoch: 21/5000 Train loss (mean) : 0.4140474796 Accuracy (mean): 0.925100 learning rate : 0.00022727\n",
      "Epoch: 31/5000 Train loss (mean) : 0.1879713386 Accuracy (mean): 0.970900 learning rate : 0.00015625\n",
      "Epoch: 41/5000 Train loss (mean) : 0.1011791602 Accuracy (mean): 0.988200 learning rate : 0.00011905\n",
      "Epoch: 51/5000 Train loss (mean) : 0.0603768937 Accuracy (mean): 0.995300 learning rate : 0.00009615\n",
      "Epoch: 61/5000 Train loss (mean) : 0.0384733528 Accuracy (mean): 0.998000 learning rate : 0.00008065\n",
      "Epoch: 71/5000 Train loss (mean) : 0.0253517050 Accuracy (mean): 0.999200 learning rate : 0.00006944\n",
      "Epoch: 81/5000 Train loss (mean) : 0.0170362908 Accuracy (mean): 0.999900 learning rate : 0.00006098\n",
      "Epoch: 91/5000 Train loss (mean) : 0.0116962399 Accuracy (mean): 1.000000 learning rate : 0.00005435\n",
      "Epoch: 101/5000 Train loss (mean) : 0.0081962887 Accuracy (mean): 1.000000 learning rate : 0.00004902\n",
      "Epoch: 111/5000 Train loss (mean) : 0.0058010761 Accuracy (mean): 1.000000 learning rate : 0.00004464\n",
      "Epoch: 121/5000 Train loss (mean) : 0.0041509657 Accuracy (mean): 1.000000 learning rate : 0.00004098\n",
      "Epoch: 131/5000 Train loss (mean) : 0.0029805573 Accuracy (mean): 1.000000 learning rate : 0.00003788\n",
      "Epoch: 141/5000 Train loss (mean) : 0.0021505549 Accuracy (mean): 1.000000 learning rate : 0.00003521\n",
      "Epoch: 151/5000 Train loss (mean) : 0.0015639716 Accuracy (mean): 1.000000 learning rate : 0.00003289\n",
      "Epoch: 161/5000 Train loss (mean) : 0.0011368124 Accuracy (mean): 1.000000 learning rate : 0.00003086\n",
      "Epoch: 171/5000 Train loss (mean) : 0.0008331476 Accuracy (mean): 1.000000 learning rate : 0.00002907\n",
      "Epoch: 181/5000 Train loss (mean) : 0.0006143479 Accuracy (mean): 1.000000 learning rate : 0.00002747\n",
      "Epoch: 191/5000 Train loss (mean) : 0.0004534148 Accuracy (mean): 1.000000 learning rate : 0.00002604\n",
      "Epoch: 201/5000 Train loss (mean) : 0.0003353843 Accuracy (mean): 1.000000 learning rate : 0.00002475\n",
      "Epoch: 401/5000 Train loss (mean) : 0.0000026270 Accuracy (mean): 1.000000 learning rate : 0.00001244\n",
      "Epoch: 601/5000 Train loss (mean) : 0.0000012147 Accuracy (mean): 1.000000 learning rate : 0.00000831\n",
      "Epoch: 801/5000 Train loss (mean) : 0.0000011961 Accuracy (mean): 1.000000 learning rate : 0.00000623\n",
      "Epoch: 1001/5000 Train loss (mean) : 0.0000011934 Accuracy (mean): 1.000000 learning rate : 0.00000499\n",
      "Epoch: 1201/5000 Train loss (mean) : 0.0000011928 Accuracy (mean): 1.000000 learning rate : 0.00000416\n",
      "Epoch: 1401/5000 Train loss (mean) : 0.0000011925 Accuracy (mean): 1.000000 learning rate : 0.00000357\n",
      "Epoch: 1601/5000 Train loss (mean) : 0.0000011924 Accuracy (mean): 1.000000 learning rate : 0.00000312\n",
      "Epoch: 1801/5000 Train loss (mean) : 0.0000011923 Accuracy (mean): 1.000000 learning rate : 0.00000277\n",
      "Epoch: 2001/5000 Train loss (mean) : 0.0000011923 Accuracy (mean): 1.000000 learning rate : 0.00000250\n",
      "Epoch: 2501/5000 Train loss (mean) : 0.0000011922 Accuracy (mean): 1.000000 learning rate : 0.00000200\n",
      "Epoch: 3001/5000 Train loss (mean) : 0.0000011922 Accuracy (mean): 1.000000 learning rate : 0.00000167\n",
      "Epoch: 3501/5000 Train loss (mean) : 0.0000011922 Accuracy (mean): 1.000000 learning rate : 0.00000143\n",
      "Epoch: 4001/5000 Train loss (mean) : 0.0000011921 Accuracy (mean): 1.000000 learning rate : 0.00000125\n",
      "Epoch: 4501/5000 Train loss (mean) : 0.0000011921 Accuracy (mean): 1.000000 learning rate : 0.00000111\n",
      "duration: 28326.5 sec\n"
     ]
    },
    {
     "data": {
      "image/png": "[encoded data removed]",
      "text/plain": [
       "<Figure size 432x288 with 1 Axes>"
      ]
     },
     "metadata": {},
     "output_type": "display_data"
    },
    {
     "data": {
      "image/png": "[encoded data removed]",
      "text/plain": [
       "<Figure size 432x288 with 1 Axes>"
      ]
     },
     "metadata": {},
     "output_type": "display_data"
    },
    {
     "data": {
      "image/png": "[encoded data removed]",
      "text/plain": [
       "<Figure size 432x288 with 1 Axes>"
      ]
     },
     "metadata": {},
     "output_type": "display_data"
    }
   ],
   "source": [
    "tf.reset_default_graph()\n",
    "nb_epochs = 5000\n",
    "epochs = nb_epochs\n",
    "\n",
    "model = machine_translation_model(human_vocab_size=human_vocab_size, batch_size=batch_size, \n",
    "                       bi_lstm_size=bi_lstm_size, bi_lstm_layers=bi_lstm_layers, post_attention_lstm_size=post_attention_lstm_size,\n",
    "                        post_attention_lstm_layers=post_attention_lstm_layers, learning_rate=learning_rate, Tx=Tx, Ty=Ty)\n",
    "\n",
    "saver = tf.train.Saver(max_to_keep=epochs) \n",
    "\n",
    "train_loss_mean = []\n",
    "train_acc_mean = []\n",
    "\n",
    "with tf.Session(config=config) as sess:\n",
    "    sess.run(tf.local_variables_initializer())\n",
    "    sess.run(tf.global_variables_initializer())\n",
    "\n",
    "    start_time = time.time()\n",
    "    \n",
    "    for e in range(epochs):\n",
    "        \n",
    "        train_acc = []\n",
    "        train_loss = []\n",
    "        \n",
    "        post_attention_state_val = sess.run(model.post_attention_initial_state)\n",
    "         \n",
    "        # shuffling the data\n",
    "        permutated = np.arange(X_train_original.shape[0])\n",
    "        np.random.shuffle(permutated)\n",
    "        X_train = X_train_original[permutated]\n",
    "        Y_train = Y_train_original[permutated]\n",
    "\n",
    "        for (x_train, y_train) in get_batches(X_train, Y_train, batch_size):\n",
    "            feed = {model.inputs_: x_train,\n",
    "                   model.labels_: y_train,\n",
    "                   model.post_attention_initial_state: post_attention_state_val}\n",
    "                       \n",
    "            batch_loss, batch_accuracy,_,batch_learning_rate = sess.run([model.loss,\n",
    "                                                        model.accuracy,\n",
    "                                                        model.optimizer, model.learning_rate],\n",
    "                                feed_dict=feed)\n",
    "           \n",
    "            train_loss.append(batch_loss)\n",
    "            train_acc.append(batch_accuracy)\n",
    "                                    \n",
    "        if (e<=200):\n",
    "            if (e%10==0):\n",
    "                print(\"Epoch: {}/{}\".format(e+1, epochs),\n",
    "                      \"Train loss (mean) : {:.10f}\".format(np.mean(train_loss)),\n",
    "                      \"Accuracy (mean): {:.6f}\".format(np.mean(train_acc)),\n",
    "                       \"learning rate : {:.8f}\".format(batch_learning_rate))\n",
    "        elif (e>200 and e < 2000):\n",
    "            if (e%200==0):\n",
    "                print(\"Epoch: {}/{}\".format(e+1, epochs),\n",
    "                      \"Train loss (mean) : {:.10f}\".format(np.mean(train_loss)),\n",
    "                      \"Accuracy (mean): {:.6f}\".format(np.mean(train_acc)),\n",
    "                       \"learning rate : {:.8f}\".format(batch_learning_rate))\n",
    "        else:\n",
    "            if (e%500==0):\n",
    "                print(\"Epoch: {}/{}\".format(e+1, epochs),\n",
    "                      \"Train loss (mean) : {:.10f}\".format(np.mean(train_loss)),\n",
    "                      \"Accuracy (mean): {:.6f}\".format(np.mean(train_acc)),\n",
    "                      \"learning rate : {:.8f}\".format(batch_learning_rate))            \n",
    "            \n",
    "        train_loss_mean.append(np.mean(train_loss))\n",
    "        train_acc_mean.append(np.mean(train_acc))\n",
    "\n",
    "        if (e%20 == 0):\n",
    "            saver.save(sess, \"checkpoints/epoch_{}.ckpt\".format(e+1))\n",
    "              \n",
    "    duration=time.time()-start_time\n",
    "    print(\"duration: {:.1f} sec\".format(duration))\n",
    "    saver.save(sess, \"checkpoints/translation.ckpt\")\n",
    "    \n",
    "fig = plt.figure()\n",
    "plt.plot(np.arange(1,epochs+1), train_loss_mean)\n",
    "plt.ylabel('mean loss per epoch')\n",
    "plt.xlabel('epoch')\n",
    "\n",
    "fig = plt.figure()\n",
    "plt.plot(np.arange(1,epochs+1), train_loss_mean)\n",
    "plt.ylabel('mean loss per epoch - log scale')\n",
    "plt.xlabel('epoch')\n",
    "plt.yscale('log')\n",
    "\n",
    "fig = plt.figure()\n",
    "plt.plot(np.arange(1,epochs+1), train_acc_mean)\n",
    "plt.ylabel('mean accuracy per epoch')\n",
    "plt.xlabel('epoch')"
   ]
  },
  {
   "cell_type": "markdown",
   "metadata": {},
   "source": [
    "## Test the model on unseen examples (i.e. human readable dates)    "
   ]
  },
  {
   "cell_type": "code",
   "execution_count": 26,
   "metadata": {},
   "outputs": [
    {
     "name": "stdout",
     "output_type": "stream",
     "text": [
      "source: 3 May 1979\n",
      "output: 1979-05-03\n",
      "\n",
      "source: 5 April 09\n",
      "output: 2009-04-05\n",
      "\n",
      "source: 21th of August 2016\n",
      "output: 2016-08-21\n",
      "\n",
      "source: Tue 10 Jul 2007\n",
      "output: 2007-07-10\n",
      "\n",
      "source: Saturday May 9 2018\n",
      "output: 2018-05-09\n",
      "\n",
      "source: March 3 2001\n",
      "output: 2001-03-03\n",
      "\n",
      "source: March 3rd 2001\n",
      "output: 2001-03-03\n",
      "\n",
      "source: 1 March 2001\n",
      "output: 2001-03-01\n",
      "\n",
      "source: 21st of August 2016\n",
      "output: 2016-08-21\n",
      "\n",
      "source: August 21 2016\n",
      "output: 2016-08-21\n",
      "\n",
      "source: 3/27/70\n",
      "output: 1970-03-27\n",
      "\n",
      "source: 18.10.89\n",
      "output: 1989-10-18\n",
      "\n",
      "source: saturday september 29 1984\n",
      "output: 1984-09-29\n",
      "\n",
      "source: 8 01 16\n",
      "output: 2016-01-08\n",
      "\n",
      "source: 12th of November 2032\n",
      "output: 2033-11-12\n",
      "\n",
      "source: 11th of November 2010\n",
      "output: 2010-11-11\n",
      "\n",
      "source: April 3rd 2010\n",
      "output: 2010-04-03\n",
      "\n",
      "source: April 2nd 2010\n",
      "output: 2010-04-02\n",
      "\n",
      "source: April 1st 2010\n",
      "output: 2010-04-01\n",
      "\n",
      "source: December 3rd 2010\n",
      "output: 2010-12-03\n",
      "\n",
      "source: December 3th 2010\n",
      "output: 2010-02-03\n",
      "\n",
      "source: 3rd of December 2010\n",
      "output: 2010-12-03\n",
      "\n",
      "source: 4th of December 2010\n",
      "output: 2010-02-04\n",
      "\n",
      "source: December 4th 2010\n",
      "output: 2010-02-04\n",
      "\n",
      "source: December 5th 2010\n",
      "output: 2010-02-05\n",
      "\n",
      "source: 6th of December 2010\n",
      "output: 2010-12-06\n",
      "\n",
      "source: 11th of August 2016\n",
      "output: 2016-08-11\n",
      "\n",
      "source: Friday 3 May 1995\n",
      "output: 1995-05-03\n",
      "\n",
      "source: 10th June 1900\n",
      "output: 2000-06-10\n",
      "\n",
      "source: 10th June 1980\n",
      "output: 1980-06-10\n",
      "\n"
     ]
    }
   ],
   "source": [
    "EXAMPLES = ['3 May 1979', '5 April 09', '21th of August 2016', 'Tue 10 Jul 2007', 'Saturday May 9 2018', \n",
    "            'March 3 2001', 'March 3rd 2001', '1 March 2001', '21st of August 2016', 'August 21 2016',\n",
    "            '3/27/70', '18.10.89','saturday september 29 1984', '8 01 16', '12th of November 2032',\n",
    "           '11th of November 2010', 'April 3rd 2010', 'April 2nd 2010', 'April 1st 2010', 'December 3rd 2010', \n",
    "            'December 3th 2010', '3rd of December 2010', '4th of December 2010', 'December 4th 2010', 'December 5th 2010',\n",
    "           '6th of December 2010', '11th of August 2016', 'Friday 3 May 1995', '10th June 1900','10th June 1980']\n",
    "\n",
    "model = machine_translation_model(human_vocab_size=human_vocab_size, batch_size=1,\n",
    "                       bi_lstm_size=bi_lstm_size, bi_lstm_layers=bi_lstm_layers, post_attention_lstm_size=post_attention_lstm_size,\n",
    "                        post_attention_lstm_layers=post_attention_lstm_layers, learning_rate=learning_rate, Tx=Tx, Ty=Ty,\n",
    "                                     test_mode=True)\n",
    "\n",
    "with tf.Session() as sess:\n",
    "    saver = tf.train.Saver()\n",
    "    saver.restore(sess, tf.train.latest_checkpoint('checkpoints'))\n",
    "    \n",
    "    test_post_attention_state_val = sess.run(model.post_attention_initial_state)\n",
    "        \n",
    "    for example in EXAMPLES:\n",
    "        source = string_to_int(example, Tx, human_vocab)   \n",
    "        x=np.array(source)\n",
    "        x=x.reshape(1,-1)\n",
    "    \n",
    "        batches = get_batches(X_train_original[:1], Y_train_original[:1], 1)\n",
    "        x1, y = next(batches)\n",
    "    \n",
    "        feed = {model.inputs_: x,\n",
    "                   model.labels_: y,\n",
    "                   model.post_attention_initial_state: test_post_attention_state_val}\n",
    "            \n",
    "            \n",
    "        test_predictions_list = sess.run(model.predictions_list,\n",
    "                                feed_dict=feed)\n",
    "        \n",
    "        prediction = np.argmax(test_predictions_list, axis = -1)\n",
    "        output = [inv_machine_vocab[int(i)] for i in prediction]\n",
    "        print(\"source:\", example)\n",
    "        print(\"output:\", ''.join(output))\n",
    "        print()"
   ]
  },
  {
   "cell_type": "markdown",
   "metadata": {},
   "source": [
    "## It translates correctly 24 out of the 30 given unseen human readable dates into machine readable format"
   ]
  }
 ],
 "metadata": {
  "coursera": {
   "course_slug": "nlp-sequence-models",
   "graded_item_id": "n16CQ",
   "launcher_item_id": "npjGi"
  },
  "kernelspec": {
   "display_name": "Python 3",
   "language": "python",
   "name": "python3"
  },
  "language_info": {
   "codemirror_mode": {
    "name": "ipython",
    "version": 3
   },
   "file_extension": ".py",
   "mimetype": "text/x-python",
   "name": "python",
   "nbconvert_exporter": "python",
   "pygments_lexer": "ipython3",
   "version": "3.6.4"
  }
 },
 "nbformat": 4,
 "nbformat_minor": 2
}
